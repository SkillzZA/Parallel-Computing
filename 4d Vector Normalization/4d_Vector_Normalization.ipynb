{
  "cells": [
    {
      "cell_type": "code",
      "execution_count": 1,
      "metadata": {
        "colab": {
          "base_uri": "https://localhost:8080/"
        },
        "id": "rantlHUoeXwp",
        "outputId": "381eb6bb-1dbe-4795-ddda-7c02b48df38c"
      },
      "outputs": [
        {
          "output_type": "stream",
          "name": "stdout",
          "text": [
            "nvcc: NVIDIA (R) Cuda compiler driver\n",
            "Copyright (c) 2005-2024 NVIDIA Corporation\n",
            "Built on Thu_Jun__6_02:18:23_PDT_2024\n",
            "Cuda compilation tools, release 12.5, V12.5.82\n",
            "Build cuda_12.5.r12.5/compiler.34385749_0\n"
          ]
        }
      ],
      "source": [
        "!nvcc --version"
      ]
    },
    {
      "cell_type": "code",
      "execution_count": 2,
      "metadata": {
        "colab": {
          "base_uri": "https://localhost:8080/"
        },
        "id": "5jEIS5A7Z7Jq",
        "outputId": "ead6b494-12f3-4964-9373-ccc2f58e2fe5"
      },
      "outputs": [
        {
          "output_type": "stream",
          "name": "stdout",
          "text": [
            "bin    cuda\tcuda-12.5\t  etc\t include  libexec     man  sbin   src\n",
            "colab  cuda-12\tdist_metrics.pxd  games  lib\t  LICENSE.md  opt  share\n"
          ]
        }
      ],
      "source": [
        "!ls /usr/local"
      ]
    },
    {
      "cell_type": "code",
      "execution_count": 3,
      "metadata": {
        "colab": {
          "base_uri": "https://localhost:8080/"
        },
        "id": "BPEYj6m5hvhr",
        "outputId": "70d9f695-386d-4f84-bf1e-7800206f24e8"
      },
      "outputs": [
        {
          "output_type": "stream",
          "name": "stdout",
          "text": [
            "/usr/local/cuda/bin/nvcc\n"
          ]
        }
      ],
      "source": [
        "!which nvcc"
      ]
    },
    {
      "cell_type": "code",
      "execution_count": 4,
      "metadata": {
        "colab": {
          "base_uri": "https://localhost:8080/"
        },
        "id": "boqI4funiYjK",
        "outputId": "2ad8572f-4072-4311-c851-2b986c99f773"
      },
      "outputs": [
        {
          "output_type": "stream",
          "name": "stdout",
          "text": [
            "Mon May 12 08:59:35 2025       \n",
            "+-----------------------------------------------------------------------------------------+\n",
            "| NVIDIA-SMI 550.54.15              Driver Version: 550.54.15      CUDA Version: 12.4     |\n",
            "|-----------------------------------------+------------------------+----------------------+\n",
            "| GPU  Name                 Persistence-M | Bus-Id          Disp.A | Volatile Uncorr. ECC |\n",
            "| Fan  Temp   Perf          Pwr:Usage/Cap |           Memory-Usage | GPU-Util  Compute M. |\n",
            "|                                         |                        |               MIG M. |\n",
            "|=========================================+========================+======================|\n",
            "|   0  Tesla T4                       Off |   00000000:00:04.0 Off |                    0 |\n",
            "| N/A   40C    P8             11W /   70W |       0MiB /  15360MiB |      0%      Default |\n",
            "|                                         |                        |                  N/A |\n",
            "+-----------------------------------------+------------------------+----------------------+\n",
            "                                                                                         \n",
            "+-----------------------------------------------------------------------------------------+\n",
            "| Processes:                                                                              |\n",
            "|  GPU   GI   CI        PID   Type   Process name                              GPU Memory |\n",
            "|        ID   ID                                                               Usage      |\n",
            "|=========================================================================================|\n",
            "|  No running processes found                                                             |\n",
            "+-----------------------------------------------------------------------------------------+\n"
          ]
        }
      ],
      "source": [
        "!nvidia-smi"
      ]
    },
    {
      "cell_type": "code",
      "execution_count": 20,
      "metadata": {
        "colab": {
          "base_uri": "https://localhost:8080/"
        },
        "id": "9dFqQuY7jwp1",
        "outputId": "fce06553-aa41-4812-beee-706c187f13ae"
      },
      "outputs": [
        {
          "output_type": "stream",
          "name": "stdout",
          "text": [
            "Overwriting matrix_mul.cu\n"
          ]
        }
      ],
      "source": [
        "%%writefile matrix_mul.cu\n",
        "\n",
        "#include <iostream>\n",
        "#include <vector>\n",
        "#include <cstdlib> // For rand(), srand()\n",
        "#include <ctime>   // For time()\n",
        "#include <cmath>   // For sqrtf()\n",
        "#include <cuda_runtime.h>\n",
        "#include <iomanip> // For std::fixed, std::setprecision\n",
        "\n",
        "// --- Vector Addition ---\n",
        "__global__ void vectorAddKernel(const float *a, const float *b, float *c, int n) {\n",
        "    int idx = blockIdx.x * blockDim.x + threadIdx.x;\n",
        "    int stride = gridDim.x * blockDim.x;\n",
        "\n",
        "    for (int i = idx; i < n; i += stride) {\n",
        "        c[i] = a[i] + b[i];\n",
        "    }\n",
        "}\n",
        "\n",
        "void vector_addition() {\n",
        "    std::cout << \"\\n--- Vector Addition ---\\n\";\n",
        "    const int n = 1 << 24; // 2^24 elements\n",
        "    const size_t bytes = n * sizeof(float);\n",
        "    const int print_count = 5; // Number of elements to print\n",
        "\n",
        "    std::vector<float> h_a(n);\n",
        "    std::vector<float> h_b(n);\n",
        "    std::vector<float> h_c(n); // For GPU result\n",
        "\n",
        "    srand(static_cast<unsigned int>(time(0)));\n",
        "    for (int i = 0; i < n; ++i) {\n",
        "        h_a[i] = static_cast<float>(rand()) / RAND_MAX;\n",
        "        h_b[i] = static_cast<float>(rand()) / RAND_MAX;\n",
        "    }\n",
        "\n",
        "    std::cout << \"Initial Host Data (first \" << print_count << \" elements):\\n\";\n",
        "    for (int i = 0; i < std::min(n, print_count); ++i) {\n",
        "        std::cout << \"h_a[\" << i << \"]: \" << h_a[i] << \", h_b[\" << i << \"]: \" << h_b[i] << std::endl;\n",
        "    }\n",
        "\n",
        "    float *d_a, *d_b, *d_c;\n",
        "    cudaError_t err;\n",
        "\n",
        "    err = cudaMalloc(&d_a, bytes);\n",
        "    if (err != cudaSuccess) { std::cerr << \"CUDA Malloc error d_a: \" << cudaGetErrorString(err) << std::endl; return; }\n",
        "    err = cudaMalloc(&d_b, bytes);\n",
        "    if (err != cudaSuccess) { std::cerr << \"CUDA Malloc error d_b: \" << cudaGetErrorString(err) << std::endl; return; }\n",
        "    err = cudaMalloc(&d_c, bytes);\n",
        "    if (err != cudaSuccess) { std::cerr << \"CUDA Malloc error d_c: \" << cudaGetErrorString(err) << std::endl; return; }\n",
        "\n",
        "    cudaEvent_t start, stop;\n",
        "    cudaEventCreate(&start);\n",
        "    cudaEventCreate(&stop);\n",
        "\n",
        "    // Copy H2D\n",
        "    err = cudaMemcpy(d_a, h_a.data(), bytes, cudaMemcpyHostToDevice);\n",
        "    if (err != cudaSuccess) { std::cerr << \"CUDA Memcpy H2D error d_a: \" << cudaGetErrorString(err) << std::endl; return; }\n",
        "    err = cudaMemcpy(d_b, h_b.data(), bytes, cudaMemcpyHostToDevice);\n",
        "    if (err != cudaSuccess) { std::cerr << \"CUDA Memcpy H2D error d_b: \" << cudaGetErrorString(err) << std::endl; return; }\n",
        "\n",
        "    int blockSize = 256;\n",
        "    int gridSize = (n + blockSize - 1) / blockSize;\n",
        "\n",
        "    // Kernel Launch\n",
        "    cudaEventRecord(start);\n",
        "    vectorAddKernel<<<gridSize, blockSize>>>(d_a, d_b, d_c, n);\n",
        "    err = cudaGetLastError(); // Check for kernel launch errors\n",
        "    if (err != cudaSuccess) { std::cerr << \"Kernel launch error: \" << cudaGetErrorString(err) << std::endl; return; }\n",
        "    cudaEventRecord(stop);\n",
        "    cudaEventSynchronize(stop); // Wait for kernel to finish for accurate timing\n",
        "\n",
        "    float ms = 0;\n",
        "    cudaEventElapsedTime(&ms, start, stop);\n",
        "    std::cout << \"GPU Kernel execution time: \" << ms << \" ms\\n\";\n",
        "\n",
        "    // Copy D2H\n",
        "    err = cudaMemcpy(h_c.data(), d_c, bytes, cudaMemcpyDeviceToHost);\n",
        "    if (err != cudaSuccess) { std::cerr << \"CUDA Memcpy D2H error d_c: \" << cudaGetErrorString(err) << std::endl; return; }\n",
        "\n",
        "    std::cout << \"GPU Result (first \" << print_count << \" elements):\\n\";\n",
        "    for (int i = 0; i < std::min(n, print_count); ++i) {\n",
        "        std::cout << \"h_c[\" << i << \"]: \" << h_c[i] << \" (Expected: \" << h_a[i] + h_b[i] << \")\" << std::endl;\n",
        "    }\n",
        "\n",
        "    // Simple Verification (already prints some results above, so this is more of a status)\n",
        "    bool ok = true;\n",
        "    for (int i = 0; i < n; ++i) {\n",
        "        float expected = h_a[i] + h_b[i];\n",
        "        if (std::abs(h_c[i] - expected) > 1e-5) {\n",
        "            // std::cerr << \"Full Verification failed at index \" << i << \": GPU=\" << h_c[i] << \", CPU_expected=\" << expected << std::endl;\n",
        "            ok = false;\n",
        "            break;\n",
        "        }\n",
        "    }\n",
        "    if(ok) std::cout << \"Basic Verification: PASSED\\n\";\n",
        "    else std::cout << \"Basic Verification: FAILED\\n\";\n",
        "\n",
        "    cudaFree(d_a);\n",
        "    cudaFree(d_b);\n",
        "    cudaFree(d_c);\n",
        "    cudaEventDestroy(start);\n",
        "    cudaEventDestroy(stop);\n",
        "}\n",
        "\n",
        "// --- Normalize 4D Vectors ---\n",
        "__global__ void normalizeVectorsKernel(const float4 *v_in, float4 *v_out, int n_vectors) {\n",
        "    int idx = blockIdx.x * blockDim.x + threadIdx.x;\n",
        "    int stride = gridDim.x * blockDim.x;\n",
        "\n",
        "    for (int i = idx; i < n_vectors; i += stride) {\n",
        "        float4 vec = v_in[i];\n",
        "        float len_sq = vec.x * vec.x + vec.y * vec.y + vec.z * vec.z + vec.w * vec.w;\n",
        "\n",
        "        if (len_sq > 1e-9f) {\n",
        "            float inv_len = rsqrtf(len_sq);\n",
        "            v_out[i].x = vec.x * inv_len;\n",
        "            v_out[i].y = vec.y * inv_len;\n",
        "            v_out[i].z = vec.z * inv_len;\n",
        "            v_out[i].w = vec.w * inv_len;\n",
        "        } else {\n",
        "            v_out[i].x = 0.0f;\n",
        "            v_out[i].y = 0.0f;\n",
        "            v_out[i].z = 0.0f;\n",
        "            v_out[i].w = 0.0f;\n",
        "        }\n",
        "    }\n",
        "}\n",
        "\n",
        "void normalize_vectors() {\n",
        "    std::cout << \"\\n--- Normalize 4D Vectors ---\\n\";\n",
        "    const int n_vectors = 1 << 22; // 2^22 4D vectors\n",
        "    const size_t bytes_float4 = n_vectors * sizeof(float4);\n",
        "    const int print_count = 3; // Number of vectors to print\n",
        "\n",
        "    std::vector<float4> h_v_in(n_vectors);\n",
        "    std::vector<float4> h_v_out(n_vectors);\n",
        "\n",
        "    srand(static_cast<unsigned int>(time(0)) + 1);\n",
        "    for (int i = 0; i < n_vectors; ++i) {\n",
        "        h_v_in[i].x = (static_cast<float>(rand()) / RAND_MAX) * 2.0f - 1.0f;\n",
        "        h_v_in[i].y = (static_cast<float>(rand()) / RAND_MAX) * 2.0f - 1.0f;\n",
        "        h_v_in[i].z = (static_cast<float>(rand()) / RAND_MAX) * 2.0f - 1.0f;\n",
        "        h_v_in[i].w = (static_cast<float>(rand()) / RAND_MAX) * 2.0f - 1.0f;\n",
        "    }\n",
        "\n",
        "    std::cout << \"Initial Host Data (first \" << print_count << \" vectors):\\n\";\n",
        "    for (int i = 0; i < std::min(n_vectors, print_count); ++i) {\n",
        "        std::cout << \"h_v_in[\" << i << \"]: (\" << h_v_in[i].x << \", \" << h_v_in[i].y\n",
        "                  << \", \" << h_v_in[i].z << \", \" << h_v_in[i].w << \")\" << std::endl;\n",
        "    }\n",
        "\n",
        "\n",
        "    float4 *d_v_in, *d_v_out;\n",
        "    cudaError_t err;\n",
        "\n",
        "    err = cudaMalloc(&d_v_in, bytes_float4);\n",
        "    if (err != cudaSuccess) { std::cerr << \"CUDA Malloc error d_v_in: \" << cudaGetErrorString(err) << std::endl; return; }\n",
        "    err = cudaMalloc(&d_v_out, bytes_float4);\n",
        "    if (err != cudaSuccess) { std::cerr << \"CUDA Malloc error d_v_out: \" << cudaGetErrorString(err) << std::endl; return; }\n",
        "\n",
        "    cudaEvent_t start, stop;\n",
        "    cudaEventCreate(&start);\n",
        "    cudaEventCreate(&stop);\n",
        "\n",
        "    // Copy H2D\n",
        "    err = cudaMemcpy(d_v_in, h_v_in.data(), bytes_float4, cudaMemcpyHostToDevice);\n",
        "    if (err != cudaSuccess) { std::cerr << \"CUDA Memcpy H2D error d_v_in: \" << cudaGetErrorString(err) << std::endl; return; }\n",
        "\n",
        "    int blockSize = 256;\n",
        "    int gridSize = (n_vectors + blockSize - 1) / blockSize;\n",
        "\n",
        "    // Kernel Launch\n",
        "    cudaEventRecord(start);\n",
        "    normalizeVectorsKernel<<<gridSize, blockSize>>>(d_v_in, d_v_out, n_vectors);\n",
        "    err = cudaGetLastError();\n",
        "    if (err != cudaSuccess) { std::cerr << \"Kernel launch error: \" << cudaGetErrorString(err) << std::endl; return; }\n",
        "    cudaEventRecord(stop);\n",
        "    cudaEventSynchronize(stop);\n",
        "\n",
        "    float ms = 0;\n",
        "    cudaEventElapsedTime(&ms, start, stop);\n",
        "    std::cout << \"GPU Kernel execution time: \" << ms << \" ms\\n\";\n",
        "\n",
        "    // Copy D2H\n",
        "    err = cudaMemcpy(h_v_out.data(), d_v_out, bytes_float4, cudaMemcpyDeviceToHost);\n",
        "    if (err != cudaSuccess) { std::cerr << \"CUDA Memcpy D2H error d_v_out: \" << cudaGetErrorString(err) << std::endl; return; }\n",
        "\n",
        "    std::cout << \"GPU Result (first \" << print_count << \" normalized vectors):\\n\";\n",
        "     bool all_ok = true;\n",
        "    for (int i = 0; i < std::min(n_vectors, print_count); ++i) {\n",
        "        float4 first_vec = h_v_out[i];\n",
        "        float len_sq = first_vec.x * first_vec.x + first_vec.y * first_vec.y +\n",
        "                       first_vec.z * first_vec.z + first_vec.w * first_vec.w;\n",
        "        std::cout << \"h_v_out[\" << i << \"]: (\" << first_vec.x << \", \" << first_vec.y\n",
        "                  << \", \" << first_vec.z << \", \" << first_vec.w << \")\"\n",
        "                  << \" Length: \" << sqrtf(len_sq);\n",
        "        if (len_sq > 1e-9f) {\n",
        "            if (std::abs(sqrtf(len_sq) - 1.0f) > 1e-5) {\n",
        "                 std::cout << \" (VERIFICATION FAILED: length not 1.0)\";\n",
        "                 all_ok = false;\n",
        "            }\n",
        "        } else {\n",
        "            std::cout << \" (original likely zero)\";\n",
        "        }\n",
        "        std::cout << std::endl;\n",
        "    }\n",
        "    if(all_ok) std::cout << \"Basic Verification: PASSED\\n\";\n",
        "    else std::cout << \"Basic Verification: FAILED (at least one printed vector's length was not 1.0)\\n\";\n",
        "\n",
        "\n",
        "    cudaFree(d_v_in);\n",
        "    cudaFree(d_v_out);\n",
        "    cudaEventDestroy(start);\n",
        "    cudaEventDestroy(stop);\n",
        "}\n",
        "\n",
        "int main() {\n",
        "    std::cout << std::fixed << std::setprecision(6); // More precision for vector components\n",
        "    vector_addition();\n",
        "    normalize_vectors();\n",
        "    return 0;\n",
        "}"
      ]
    },
    {
      "cell_type": "code",
      "execution_count": 21,
      "metadata": {
        "id": "VCTTpyOrkGdi"
      },
      "outputs": [],
      "source": [
        "!nvcc -arch=sm_75 -o matrix_mul matrix_mul.cu"
      ]
    },
    {
      "cell_type": "code",
      "execution_count": 22,
      "metadata": {
        "colab": {
          "base_uri": "https://localhost:8080/"
        },
        "id": "-W8VpWmxmR12",
        "outputId": "aba7d3cc-2bb5-48bf-fde5-413ddeeffdd7"
      },
      "outputs": [
        {
          "output_type": "stream",
          "name": "stdout",
          "text": [
            "\n",
            "--- Problem 1: Vector Addition ---\n",
            "Problem 1: Initial Host Data (first 5 elements):\n",
            "h_a[0]: 0.074234, h_b[0]: 0.097864\n",
            "h_a[1]: 0.825736, h_b[1]: 0.231200\n",
            "h_a[2]: 0.782525, h_b[2]: 0.998622\n",
            "h_a[3]: 0.394453, h_b[3]: 0.087803\n",
            "h_a[4]: 0.187307, h_b[4]: 0.104967\n",
            "GPU Kernel execution time: 0.845376 ms\n",
            "Problem 1: GPU Result (first 5 elements):\n",
            "h_c[0]: 0.172098 (Expected: 0.172098)\n",
            "h_c[1]: 1.056937 (Expected: 1.056937)\n",
            "h_c[2]: 1.781147 (Expected: 1.781147)\n",
            "h_c[3]: 0.482257 (Expected: 0.482257)\n",
            "h_c[4]: 0.292274 (Expected: 0.292274)\n",
            "Basic Verification: PASSED\n",
            "\n",
            "--- Problem 2: Normalize 4D Vectors ---\n",
            "Problem 2: Initial Host Data (first 3 vectors):\n",
            "h_v_in[0]: (0.590030, 0.856545, 0.872543, 0.752562)\n",
            "h_v_in[1]: (-0.688787, -0.107003, 0.244758, 0.367581)\n",
            "h_v_in[2]: (-0.388621, -0.437134, 0.303062, 0.543584)\n",
            "GPU Kernel execution time: 0.590944 ms\n",
            "Problem 2: GPU Result (first 3 normalized vectors):\n",
            "h_v_out[0]: (0.380112, 0.551808, 0.562115, 0.484819) Length: 1.000000\n",
            "h_v_out[1]: (-0.834725, -0.129674, 0.296617, 0.445463) Length: 1.000000\n",
            "h_v_out[2]: (-0.455020, -0.511822, 0.354843, 0.636460) Length: 1.000000\n",
            "Basic Verification: PASSED\n"
          ]
        }
      ],
      "source": [
        "!./matrix_mul\n"
      ]
    }
  ],
  "metadata": {
    "accelerator": "GPU",
    "colab": {
      "gpuType": "T4",
      "provenance": []
    },
    "kernelspec": {
      "display_name": "Python 3",
      "name": "python3"
    },
    "language_info": {
      "name": "python"
    }
  },
  "nbformat": 4,
  "nbformat_minor": 0
}
